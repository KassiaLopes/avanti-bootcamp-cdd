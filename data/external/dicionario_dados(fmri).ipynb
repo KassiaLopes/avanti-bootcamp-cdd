{
 "cells": [
  {
   "cell_type": "code",
   "execution_count": 2,
   "id": "17cb6703-cd67-4909-80ba-4912c70fbffd",
   "metadata": {},
   "outputs": [],
   "source": [
    "import seaborn as sns\n",
    "import pandas as pd\n",
    "import numpy as np\n",
    "\n"
   ]
  },
  {
   "cell_type": "markdown",
   "id": "6291a76f-94da-4ab0-a5da-5817e23c5e9d",
   "metadata": {},
   "source": [
    "# Dicionário de Dados - fMRI"
   ]
  },
  {
   "cell_type": "markdown",
   "id": "68e4b7cf-0c01-46fd-8713-55fb90b84ecf",
   "metadata": {},
   "source": [
    "### O dataset fmri contém um conjunto de dados sobre ressonância funcinal ou ressonância magnética funcional. "
   ]
  },
  {
   "cell_type": "code",
   "execution_count": 8,
   "id": "73c04df0-4a9c-437d-aab9-3f438b79c164",
   "metadata": {},
   "outputs": [
    {
     "data": {
      "text/html": [
       "<div>\n",
       "<style scoped>\n",
       "    .dataframe tbody tr th:only-of-type {\n",
       "        vertical-align: middle;\n",
       "    }\n",
       "\n",
       "    .dataframe tbody tr th {\n",
       "        vertical-align: top;\n",
       "    }\n",
       "\n",
       "    .dataframe thead th {\n",
       "        text-align: right;\n",
       "    }\n",
       "</style>\n",
       "<table border=\"1\" class=\"dataframe\">\n",
       "  <thead>\n",
       "    <tr style=\"text-align: right;\">\n",
       "      <th></th>\n",
       "      <th>subject</th>\n",
       "      <th>timepoint</th>\n",
       "      <th>event</th>\n",
       "      <th>region</th>\n",
       "      <th>signal</th>\n",
       "    </tr>\n",
       "  </thead>\n",
       "  <tbody>\n",
       "    <tr>\n",
       "      <th>0</th>\n",
       "      <td>s13</td>\n",
       "      <td>18</td>\n",
       "      <td>stim</td>\n",
       "      <td>parietal</td>\n",
       "      <td>-0.017552</td>\n",
       "    </tr>\n",
       "    <tr>\n",
       "      <th>1</th>\n",
       "      <td>s5</td>\n",
       "      <td>14</td>\n",
       "      <td>stim</td>\n",
       "      <td>parietal</td>\n",
       "      <td>-0.080883</td>\n",
       "    </tr>\n",
       "    <tr>\n",
       "      <th>2</th>\n",
       "      <td>s12</td>\n",
       "      <td>18</td>\n",
       "      <td>stim</td>\n",
       "      <td>parietal</td>\n",
       "      <td>-0.081033</td>\n",
       "    </tr>\n",
       "    <tr>\n",
       "      <th>3</th>\n",
       "      <td>s11</td>\n",
       "      <td>18</td>\n",
       "      <td>stim</td>\n",
       "      <td>parietal</td>\n",
       "      <td>-0.046134</td>\n",
       "    </tr>\n",
       "    <tr>\n",
       "      <th>4</th>\n",
       "      <td>s10</td>\n",
       "      <td>18</td>\n",
       "      <td>stim</td>\n",
       "      <td>parietal</td>\n",
       "      <td>-0.037970</td>\n",
       "    </tr>\n",
       "    <tr>\n",
       "      <th>5</th>\n",
       "      <td>s9</td>\n",
       "      <td>18</td>\n",
       "      <td>stim</td>\n",
       "      <td>parietal</td>\n",
       "      <td>-0.103513</td>\n",
       "    </tr>\n",
       "    <tr>\n",
       "      <th>6</th>\n",
       "      <td>s8</td>\n",
       "      <td>18</td>\n",
       "      <td>stim</td>\n",
       "      <td>parietal</td>\n",
       "      <td>-0.064408</td>\n",
       "    </tr>\n",
       "    <tr>\n",
       "      <th>7</th>\n",
       "      <td>s7</td>\n",
       "      <td>18</td>\n",
       "      <td>stim</td>\n",
       "      <td>parietal</td>\n",
       "      <td>-0.060526</td>\n",
       "    </tr>\n",
       "    <tr>\n",
       "      <th>8</th>\n",
       "      <td>s6</td>\n",
       "      <td>18</td>\n",
       "      <td>stim</td>\n",
       "      <td>parietal</td>\n",
       "      <td>-0.007029</td>\n",
       "    </tr>\n",
       "    <tr>\n",
       "      <th>9</th>\n",
       "      <td>s5</td>\n",
       "      <td>18</td>\n",
       "      <td>stim</td>\n",
       "      <td>parietal</td>\n",
       "      <td>-0.040557</td>\n",
       "    </tr>\n",
       "  </tbody>\n",
       "</table>\n",
       "</div>"
      ],
      "text/plain": [
       "  subject  timepoint event    region    signal\n",
       "0     s13         18  stim  parietal -0.017552\n",
       "1      s5         14  stim  parietal -0.080883\n",
       "2     s12         18  stim  parietal -0.081033\n",
       "3     s11         18  stim  parietal -0.046134\n",
       "4     s10         18  stim  parietal -0.037970\n",
       "5      s9         18  stim  parietal -0.103513\n",
       "6      s8         18  stim  parietal -0.064408\n",
       "7      s7         18  stim  parietal -0.060526\n",
       "8      s6         18  stim  parietal -0.007029\n",
       "9      s5         18  stim  parietal -0.040557"
      ]
     },
     "execution_count": 8,
     "metadata": {},
     "output_type": "execute_result"
    }
   ],
   "source": [
    "# Carregando o dataset\n",
    "fmri = sns.load_dataset('fmri')\n",
    "# Retorno das 10 primeiras linhas do dataset\n",
    "fmri.head(10)"
   ]
  },
  {
   "cell_type": "code",
   "execution_count": 16,
   "id": "e9f38687-258a-435f-abf5-ec480b51a957",
   "metadata": {},
   "outputs": [
    {
     "data": {
      "text/html": [
       "<div>\n",
       "<style scoped>\n",
       "    .dataframe tbody tr th:only-of-type {\n",
       "        vertical-align: middle;\n",
       "    }\n",
       "\n",
       "    .dataframe tbody tr th {\n",
       "        vertical-align: top;\n",
       "    }\n",
       "\n",
       "    .dataframe thead th {\n",
       "        text-align: right;\n",
       "    }\n",
       "</style>\n",
       "<table border=\"1\" class=\"dataframe\">\n",
       "  <thead>\n",
       "    <tr style=\"text-align: right;\">\n",
       "      <th></th>\n",
       "      <th>subject</th>\n",
       "      <th>timepoint</th>\n",
       "      <th>event</th>\n",
       "      <th>region</th>\n",
       "      <th>signal</th>\n",
       "    </tr>\n",
       "  </thead>\n",
       "  <tbody>\n",
       "    <tr>\n",
       "      <th>1054</th>\n",
       "      <td>s5</td>\n",
       "      <td>8</td>\n",
       "      <td>cue</td>\n",
       "      <td>frontal</td>\n",
       "      <td>-0.028292</td>\n",
       "    </tr>\n",
       "    <tr>\n",
       "      <th>1055</th>\n",
       "      <td>s4</td>\n",
       "      <td>8</td>\n",
       "      <td>cue</td>\n",
       "      <td>frontal</td>\n",
       "      <td>-0.160821</td>\n",
       "    </tr>\n",
       "    <tr>\n",
       "      <th>1056</th>\n",
       "      <td>s3</td>\n",
       "      <td>8</td>\n",
       "      <td>cue</td>\n",
       "      <td>frontal</td>\n",
       "      <td>-0.033848</td>\n",
       "    </tr>\n",
       "    <tr>\n",
       "      <th>1057</th>\n",
       "      <td>s2</td>\n",
       "      <td>8</td>\n",
       "      <td>cue</td>\n",
       "      <td>frontal</td>\n",
       "      <td>-0.069666</td>\n",
       "    </tr>\n",
       "    <tr>\n",
       "      <th>1058</th>\n",
       "      <td>s1</td>\n",
       "      <td>8</td>\n",
       "      <td>cue</td>\n",
       "      <td>frontal</td>\n",
       "      <td>-0.136059</td>\n",
       "    </tr>\n",
       "    <tr>\n",
       "      <th>1059</th>\n",
       "      <td>s0</td>\n",
       "      <td>8</td>\n",
       "      <td>cue</td>\n",
       "      <td>frontal</td>\n",
       "      <td>0.018165</td>\n",
       "    </tr>\n",
       "    <tr>\n",
       "      <th>1060</th>\n",
       "      <td>s13</td>\n",
       "      <td>7</td>\n",
       "      <td>cue</td>\n",
       "      <td>frontal</td>\n",
       "      <td>-0.029130</td>\n",
       "    </tr>\n",
       "    <tr>\n",
       "      <th>1061</th>\n",
       "      <td>s12</td>\n",
       "      <td>7</td>\n",
       "      <td>cue</td>\n",
       "      <td>frontal</td>\n",
       "      <td>-0.004939</td>\n",
       "    </tr>\n",
       "    <tr>\n",
       "      <th>1062</th>\n",
       "      <td>s11</td>\n",
       "      <td>7</td>\n",
       "      <td>cue</td>\n",
       "      <td>frontal</td>\n",
       "      <td>-0.025367</td>\n",
       "    </tr>\n",
       "    <tr>\n",
       "      <th>1063</th>\n",
       "      <td>s0</td>\n",
       "      <td>0</td>\n",
       "      <td>cue</td>\n",
       "      <td>parietal</td>\n",
       "      <td>-0.006899</td>\n",
       "    </tr>\n",
       "  </tbody>\n",
       "</table>\n",
       "</div>"
      ],
      "text/plain": [
       "     subject  timepoint event    region    signal\n",
       "1054      s5          8   cue   frontal -0.028292\n",
       "1055      s4          8   cue   frontal -0.160821\n",
       "1056      s3          8   cue   frontal -0.033848\n",
       "1057      s2          8   cue   frontal -0.069666\n",
       "1058      s1          8   cue   frontal -0.136059\n",
       "1059      s0          8   cue   frontal  0.018165\n",
       "1060     s13          7   cue   frontal -0.029130\n",
       "1061     s12          7   cue   frontal -0.004939\n",
       "1062     s11          7   cue   frontal -0.025367\n",
       "1063      s0          0   cue  parietal -0.006899"
      ]
     },
     "execution_count": 16,
     "metadata": {},
     "output_type": "execute_result"
    }
   ],
   "source": [
    "#retorno das 10 últimas linhas do dataframe\n",
    "fmri.tail(10)"
   ]
  },
  {
   "cell_type": "markdown",
   "id": "0a804277-058a-4706-91a7-747407420bed",
   "metadata": {
    "tags": []
   },
   "source": [
    "#### Analisando os valores diferentes que cada feature pode receber:"
   ]
  },
  {
   "cell_type": "code",
   "execution_count": 18,
   "id": "95d8a938-6a92-4da6-a800-8dc1731126cc",
   "metadata": {},
   "outputs": [
    {
     "data": {
      "text/plain": [
       "array(['s13', 's5', 's12', 's11', 's10', 's9', 's8', 's7', 's6', 's4',\n",
       "       's3', 's2', 's1', 's0'], dtype=object)"
      ]
     },
     "execution_count": 18,
     "metadata": {},
     "output_type": "execute_result"
    }
   ],
   "source": [
    "fmri[\"subject\"].unique()"
   ]
  },
  {
   "cell_type": "code",
   "execution_count": 19,
   "id": "66d2c7d3-897f-4404-9ee6-f5520f7b2f47",
   "metadata": {},
   "outputs": [
    {
     "data": {
      "text/plain": [
       "array([18, 14, 17,  9, 16, 15,  0, 13, 12, 11, 10,  3,  7,  8,  2,  6,  5,\n",
       "        4,  1])"
      ]
     },
     "execution_count": 19,
     "metadata": {},
     "output_type": "execute_result"
    }
   ],
   "source": [
    "fmri[\"timepoint\"].unique()"
   ]
  },
  {
   "cell_type": "code",
   "execution_count": 21,
   "id": "82852aaa-b2e0-4e72-9b87-cf04d95cb59d",
   "metadata": {},
   "outputs": [
    {
     "data": {
      "text/plain": [
       "array(['stim', 'cue'], dtype=object)"
      ]
     },
     "execution_count": 21,
     "metadata": {},
     "output_type": "execute_result"
    }
   ],
   "source": [
    "fmri[\"event\"].unique()"
   ]
  },
  {
   "cell_type": "code",
   "execution_count": 23,
   "id": "41066292-97a6-412d-9c40-6a12590abb1d",
   "metadata": {},
   "outputs": [
    {
     "data": {
      "text/plain": [
       "array(['parietal', 'frontal'], dtype=object)"
      ]
     },
     "execution_count": 23,
     "metadata": {},
     "output_type": "execute_result"
    }
   ],
   "source": [
    "fmri[\"region\"].unique()"
   ]
  },
  {
   "cell_type": "code",
   "execution_count": 25,
   "id": "8c5afa7a-4f5e-4e52-8279-9c1156ded118",
   "metadata": {},
   "outputs": [
    {
     "data": {
      "text/plain": [
       "1064"
      ]
     },
     "execution_count": 25,
     "metadata": {},
     "output_type": "execute_result"
    }
   ],
   "source": [
    "fmri[\"signal\"].nunique()"
   ]
  },
  {
   "cell_type": "code",
   "execution_count": 9,
   "id": "9a168d36-681b-412b-91f3-6b4ea794fb52",
   "metadata": {
    "tags": []
   },
   "outputs": [
    {
     "data": {
      "text/html": [
       "<div>\n",
       "<style scoped>\n",
       "    .dataframe tbody tr th:only-of-type {\n",
       "        vertical-align: middle;\n",
       "    }\n",
       "\n",
       "    .dataframe tbody tr th {\n",
       "        vertical-align: top;\n",
       "    }\n",
       "\n",
       "    .dataframe thead th {\n",
       "        text-align: right;\n",
       "    }\n",
       "</style>\n",
       "<table border=\"1\" class=\"dataframe\">\n",
       "  <thead>\n",
       "    <tr style=\"text-align: right;\">\n",
       "      <th></th>\n",
       "      <th>timepoint</th>\n",
       "      <th>signal</th>\n",
       "    </tr>\n",
       "  </thead>\n",
       "  <tbody>\n",
       "    <tr>\n",
       "      <th>count</th>\n",
       "      <td>1064.000000</td>\n",
       "      <td>1064.000000</td>\n",
       "    </tr>\n",
       "    <tr>\n",
       "      <th>mean</th>\n",
       "      <td>9.000000</td>\n",
       "      <td>0.003540</td>\n",
       "    </tr>\n",
       "    <tr>\n",
       "      <th>std</th>\n",
       "      <td>5.479801</td>\n",
       "      <td>0.093930</td>\n",
       "    </tr>\n",
       "    <tr>\n",
       "      <th>min</th>\n",
       "      <td>0.000000</td>\n",
       "      <td>-0.255486</td>\n",
       "    </tr>\n",
       "    <tr>\n",
       "      <th>25%</th>\n",
       "      <td>4.000000</td>\n",
       "      <td>-0.046070</td>\n",
       "    </tr>\n",
       "    <tr>\n",
       "      <th>50%</th>\n",
       "      <td>9.000000</td>\n",
       "      <td>-0.013653</td>\n",
       "    </tr>\n",
       "    <tr>\n",
       "      <th>75%</th>\n",
       "      <td>14.000000</td>\n",
       "      <td>0.024293</td>\n",
       "    </tr>\n",
       "    <tr>\n",
       "      <th>max</th>\n",
       "      <td>18.000000</td>\n",
       "      <td>0.564985</td>\n",
       "    </tr>\n",
       "  </tbody>\n",
       "</table>\n",
       "</div>"
      ],
      "text/plain": [
       "         timepoint       signal\n",
       "count  1064.000000  1064.000000\n",
       "mean      9.000000     0.003540\n",
       "std       5.479801     0.093930\n",
       "min       0.000000    -0.255486\n",
       "25%       4.000000    -0.046070\n",
       "50%       9.000000    -0.013653\n",
       "75%      14.000000     0.024293\n",
       "max      18.000000     0.564985"
      ]
     },
     "execution_count": 9,
     "metadata": {},
     "output_type": "execute_result"
    }
   ],
   "source": [
    "fmri.describe()"
   ]
  },
  {
   "cell_type": "code",
   "execution_count": 12,
   "id": "76aed945-f137-431c-88ac-73e8c817f3f6",
   "metadata": {},
   "outputs": [
    {
     "name": "stderr",
     "output_type": "stream",
     "text": [
      "/tmp/ipykernel_647361/2312429198.py:1: FutureWarning: Dropping of nuisance columns in DataFrame reductions (with 'numeric_only=None') is deprecated; in a future version this will raise TypeError.  Select only valid columns before calling the reduction.\n",
      "  fmri.mean()\n"
     ]
    },
    {
     "data": {
      "text/plain": [
       "timepoint    9.00000\n",
       "signal       0.00354\n",
       "dtype: float64"
      ]
     },
     "execution_count": 12,
     "metadata": {},
     "output_type": "execute_result"
    }
   ],
   "source": [
    "fmri.mean()"
   ]
  },
  {
   "cell_type": "code",
   "execution_count": 13,
   "id": "921c6c75-f388-4886-853e-b6585b417028",
   "metadata": {},
   "outputs": [
    {
     "name": "stderr",
     "output_type": "stream",
     "text": [
      "/tmp/ipykernel_647361/657248044.py:1: FutureWarning: Dropping of nuisance columns in DataFrame reductions (with 'numeric_only=None') is deprecated; in a future version this will raise TypeError.  Select only valid columns before calling the reduction.\n",
      "  fmri.median()\n"
     ]
    },
    {
     "data": {
      "text/plain": [
       "timepoint    9.000000\n",
       "signal      -0.013653\n",
       "dtype: float64"
      ]
     },
     "execution_count": 13,
     "metadata": {},
     "output_type": "execute_result"
    }
   ],
   "source": [
    "fmri.median()"
   ]
  },
  {
   "cell_type": "code",
   "execution_count": 19,
   "id": "c8ffc58b-7559-401d-9e84-c0a8fd84b293",
   "metadata": {},
   "outputs": [],
   "source": [
    "dicionario = pd.DataFrame([\n",
    "   { \"variavel\": \"subject\",\n",
    "        \"descricao\": \"classificação da ressonância\",\n",
    "        \"tipo\":\"qualitativa\",\n",
    "        \"subtipo\":\"nominal\"\n",
    "    },{\n",
    "        \"variavel\": \"timepoint\",\n",
    "        \"descricao\": \"-\",\n",
    "        \"tipo\":\"quantitativa\",\n",
    "        \"subtipo\":\"ordinal\"\n",
    "    },{\n",
    "        \"variavel\": \"event\",\n",
    "        \"descricao\": \"tipo de estimulação\",\n",
    "        \"tipo\":\"qualitativa\",\n",
    "        \"subtipo\":\"nominal\"\n",
    "    },{\n",
    "        \"variavel\": \"region\",\n",
    "        \"descricao\": \"região do cerébro em que a ressonância foi feita\",\n",
    "        \"tipo\":\"qualitativa\",\n",
    "        \"subtipo\":\"nominal\"\n",
    "    },{\n",
    "        \"variavel\": \"signal\",\n",
    "        \"descricao\": \"atividade cerebral\",\n",
    "        \"tipo\":\"quantitativa\",\n",
    "        \"subtipo\":\"continua\"\n",
    "    }\n",
    "]\n",
    ")"
   ]
  },
  {
   "cell_type": "markdown",
   "id": "58c6979a-4366-4ab2-ab5c-586b0b6e23b2",
   "metadata": {
    "tags": []
   },
   "source": [
    "#### Descricão de cada uma das features do dataset"
   ]
  },
  {
   "cell_type": "code",
   "execution_count": 20,
   "id": "973cb74f-f039-4ad6-9811-4f0a8eb77f51",
   "metadata": {},
   "outputs": [
    {
     "data": {
      "text/html": [
       "<div>\n",
       "<style scoped>\n",
       "    .dataframe tbody tr th:only-of-type {\n",
       "        vertical-align: middle;\n",
       "    }\n",
       "\n",
       "    .dataframe tbody tr th {\n",
       "        vertical-align: top;\n",
       "    }\n",
       "\n",
       "    .dataframe thead th {\n",
       "        text-align: right;\n",
       "    }\n",
       "</style>\n",
       "<table border=\"1\" class=\"dataframe\">\n",
       "  <thead>\n",
       "    <tr style=\"text-align: right;\">\n",
       "      <th></th>\n",
       "      <th>variavel</th>\n",
       "      <th>descricao</th>\n",
       "      <th>tipo</th>\n",
       "      <th>subtipo</th>\n",
       "    </tr>\n",
       "  </thead>\n",
       "  <tbody>\n",
       "    <tr>\n",
       "      <th>0</th>\n",
       "      <td>subject</td>\n",
       "      <td>classificação da ressonância</td>\n",
       "      <td>qualitativa</td>\n",
       "      <td>nominal</td>\n",
       "    </tr>\n",
       "    <tr>\n",
       "      <th>1</th>\n",
       "      <td>timepoint</td>\n",
       "      <td>-</td>\n",
       "      <td>quantitativa</td>\n",
       "      <td>ordinal</td>\n",
       "    </tr>\n",
       "    <tr>\n",
       "      <th>2</th>\n",
       "      <td>event</td>\n",
       "      <td>tipo de estimulação</td>\n",
       "      <td>qualitativa</td>\n",
       "      <td>nominal</td>\n",
       "    </tr>\n",
       "    <tr>\n",
       "      <th>3</th>\n",
       "      <td>region</td>\n",
       "      <td>região do cerébro em que a ressonância foi feita</td>\n",
       "      <td>qualitativa</td>\n",
       "      <td>nominal</td>\n",
       "    </tr>\n",
       "    <tr>\n",
       "      <th>4</th>\n",
       "      <td>signal</td>\n",
       "      <td>atividade cerebral</td>\n",
       "      <td>quantitativa</td>\n",
       "      <td>continua</td>\n",
       "    </tr>\n",
       "  </tbody>\n",
       "</table>\n",
       "</div>"
      ],
      "text/plain": [
       "    variavel                                         descricao          tipo  \\\n",
       "0    subject                      classificação da ressonância   qualitativa   \n",
       "1  timepoint                                                 -  quantitativa   \n",
       "2      event                               tipo de estimulação   qualitativa   \n",
       "3     region  região do cerébro em que a ressonância foi feita   qualitativa   \n",
       "4     signal                                atividade cerebral  quantitativa   \n",
       "\n",
       "    subtipo  \n",
       "0   nominal  \n",
       "1   ordinal  \n",
       "2   nominal  \n",
       "3   nominal  \n",
       "4  continua  "
      ]
     },
     "execution_count": 20,
     "metadata": {},
     "output_type": "execute_result"
    }
   ],
   "source": [
    "pd.DataFrame(dicionario)"
   ]
  },
  {
   "cell_type": "code",
   "execution_count": 23,
   "id": "d0a2150b-0425-47fc-bb7e-86007e237094",
   "metadata": {},
   "outputs": [],
   "source": [
    "features_qualitativas = dicionario[dicionario['tipo'] == 'qualitativa'].variavel.tolist()\n",
    "features_quantitativas = dicionario[dicionario['tipo'] == 'quantitativa'].variavel.tolist()"
   ]
  },
  {
   "cell_type": "code",
   "execution_count": 24,
   "id": "d4875faf-a379-4d2a-a34b-7290b7a759ab",
   "metadata": {},
   "outputs": [
    {
     "data": {
      "text/plain": [
       "<bound method DataFrame.mode of      subject event    region\n",
       "0        s13  stim  parietal\n",
       "1         s5  stim  parietal\n",
       "2        s12  stim  parietal\n",
       "3        s11  stim  parietal\n",
       "4        s10  stim  parietal\n",
       "...      ...   ...       ...\n",
       "1059      s0   cue   frontal\n",
       "1060     s13   cue   frontal\n",
       "1061     s12   cue   frontal\n",
       "1062     s11   cue   frontal\n",
       "1063      s0   cue  parietal\n",
       "\n",
       "[1064 rows x 3 columns]>"
      ]
     },
     "execution_count": 24,
     "metadata": {},
     "output_type": "execute_result"
    }
   ],
   "source": [
    "fmri[features_qualitativas].mode\n"
   ]
  },
  {
   "cell_type": "code",
   "execution_count": 25,
   "id": "732c8ac0-d2db-49a3-b740-e1c19e23e3e5",
   "metadata": {},
   "outputs": [
    {
     "data": {
      "text/plain": [
       "<bound method DataFrame.mode of       timepoint    signal\n",
       "0            18 -0.017552\n",
       "1            14 -0.080883\n",
       "2            18 -0.081033\n",
       "3            18 -0.046134\n",
       "4            18 -0.037970\n",
       "...         ...       ...\n",
       "1059          8  0.018165\n",
       "1060          7 -0.029130\n",
       "1061          7 -0.004939\n",
       "1062          7 -0.025367\n",
       "1063          0 -0.006899\n",
       "\n",
       "[1064 rows x 2 columns]>"
      ]
     },
     "execution_count": 25,
     "metadata": {},
     "output_type": "execute_result"
    }
   ],
   "source": [
    "fmri[features_quantitativas].mode"
   ]
  },
  {
   "cell_type": "markdown",
   "id": "b7a888c7-0ee8-401c-b059-1f690d1284ec",
   "metadata": {},
   "source": [
    "#### média e mediana da feature 'signal':"
   ]
  },
  {
   "cell_type": "code",
   "execution_count": 28,
   "id": "72c50f98-d816-4b0d-9e44-8a22ed224c5b",
   "metadata": {},
   "outputs": [
    {
     "data": {
      "text/plain": [
       "timepoint    9.00000\n",
       "signal       0.00354\n",
       "dtype: float64"
      ]
     },
     "execution_count": 28,
     "metadata": {},
     "output_type": "execute_result"
    }
   ],
   "source": [
    "#média\n",
    "fmri[features_quantitativas].mean()"
   ]
  },
  {
   "cell_type": "code",
   "execution_count": 27,
   "id": "18735b68-19d0-4275-8f1f-c56673118eff",
   "metadata": {},
   "outputs": [
    {
     "data": {
      "text/plain": [
       "timepoint    9.000000\n",
       "signal      -0.013653\n",
       "dtype: float64"
      ]
     },
     "execution_count": 27,
     "metadata": {},
     "output_type": "execute_result"
    }
   ],
   "source": [
    "#mediana\n",
    "fmri[features_quantitativas].median()"
   ]
  },
  {
   "cell_type": "code",
   "execution_count": 26,
   "id": "901d1e65-5bda-4312-82b2-77692addfb20",
   "metadata": {},
   "outputs": [
    {
     "data": {
      "text/html": [
       "<div>\n",
       "<style scoped>\n",
       "    .dataframe tbody tr th:only-of-type {\n",
       "        vertical-align: middle;\n",
       "    }\n",
       "\n",
       "    .dataframe tbody tr th {\n",
       "        vertical-align: top;\n",
       "    }\n",
       "\n",
       "    .dataframe thead tr th {\n",
       "        text-align: left;\n",
       "    }\n",
       "\n",
       "    .dataframe thead tr:last-of-type th {\n",
       "        text-align: right;\n",
       "    }\n",
       "</style>\n",
       "<table border=\"1\" class=\"dataframe\">\n",
       "  <thead>\n",
       "    <tr>\n",
       "      <th></th>\n",
       "      <th colspan=\"3\" halign=\"left\">timepoint</th>\n",
       "      <th colspan=\"3\" halign=\"left\">signal</th>\n",
       "    </tr>\n",
       "    <tr>\n",
       "      <th></th>\n",
       "      <th>mean</th>\n",
       "      <th>median</th>\n",
       "      <th>std</th>\n",
       "      <th>mean</th>\n",
       "      <th>median</th>\n",
       "      <th>std</th>\n",
       "    </tr>\n",
       "    <tr>\n",
       "      <th>region</th>\n",
       "      <th></th>\n",
       "      <th></th>\n",
       "      <th></th>\n",
       "      <th></th>\n",
       "      <th></th>\n",
       "      <th></th>\n",
       "    </tr>\n",
       "  </thead>\n",
       "  <tbody>\n",
       "    <tr>\n",
       "      <th>frontal</th>\n",
       "      <td>9.0</td>\n",
       "      <td>9.0</td>\n",
       "      <td>5.482381</td>\n",
       "      <td>0.001298</td>\n",
       "      <td>-0.008032</td>\n",
       "      <td>0.075967</td>\n",
       "    </tr>\n",
       "    <tr>\n",
       "      <th>parietal</th>\n",
       "      <td>9.0</td>\n",
       "      <td>9.0</td>\n",
       "      <td>5.482381</td>\n",
       "      <td>0.005781</td>\n",
       "      <td>-0.019959</td>\n",
       "      <td>0.109001</td>\n",
       "    </tr>\n",
       "  </tbody>\n",
       "</table>\n",
       "</div>"
      ],
      "text/plain": [
       "         timepoint                     signal                    \n",
       "              mean median       std      mean    median       std\n",
       "region                                                           \n",
       "frontal        9.0    9.0  5.482381  0.001298 -0.008032  0.075967\n",
       "parietal       9.0    9.0  5.482381  0.005781 -0.019959  0.109001"
      ]
     },
     "execution_count": 26,
     "metadata": {},
     "output_type": "execute_result"
    }
   ],
   "source": [
    "fmri.groupby('region')[features_quantitativas].agg(['mean','median','std'])"
   ]
  }
 ],
 "metadata": {
  "kernelspec": {
   "display_name": "Python 3 (ipykernel)",
   "language": "python",
   "name": "python3"
  },
  "language_info": {
   "codemirror_mode": {
    "name": "ipython",
    "version": 3
   },
   "file_extension": ".py",
   "mimetype": "text/x-python",
   "name": "python",
   "nbconvert_exporter": "python",
   "pygments_lexer": "ipython3",
   "version": "3.9.13"
  }
 },
 "nbformat": 4,
 "nbformat_minor": 5
}
